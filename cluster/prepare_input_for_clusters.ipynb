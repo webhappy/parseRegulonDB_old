{
 "metadata": {
  "name": "",
  "signature": "sha256:a5a772cec766e08c20d20ffd458f972e7f70e514cb9bda5482857121a7ccc3fb"
 },
 "nbformat": 3,
 "nbformat_minor": 0,
 "worksheets": [
  {
   "cells": [
    {
     "cell_type": "code",
     "collapsed": false,
     "input": [
      "from pandas.io.parsers import *\n",
      "import numpy as np\n",
      "import mysql.connector\n",
      "from pandas.io.sql import *\n",
      "\n",
      "df = read_csv(open('selected.csv'))\n",
      "df.index = df['seq']\n",
      "cnx = mysql.connector.connect(user='davidc', password='mysql_password', host='127.0.0.1',  database='CRISPR')\n",
      "NUM_SGRNA = len(df.iloc[:,0])\n",
      "proportions = df.iloc[:, 1:] + 1  # skip first column which contains 20-mer sequence name\n",
      "proportions = proportions.iloc[:,:].apply(lambda x:x/sum(x),1)  # Normalize to proportions\n",
      "\n",
      "sgRNAs_with_gene = read_frame('select * from sgRNAs where gene_name!=\" \"', cnx, index_col='seq')\n",
      "df = df.merge(sgRNAs_with_gene, 'left', left_index=True, right_index=True)\n",
      "\n",
      "column_names = {'control':('1_aerobic_t30_1_control', '1_aerobic_t60_1_control', '1_aerobic_t180_1_control'),\n",
      "              'chlor':('1_aerobic_t30_2_chlor', '1_aerobic_t60_2_chlor', '1_aerobic_t180_2_chlor'),\n",
      "              'nor':('1_aerobic_t30_6_nor', '1_aerobic_t60_6_nor', '1_aerobic_t180_6_Nor')  }\n",
      "conditions = column_names.keys()[1:]  # assume first entry at index 0 is the control\n",
      "scores = np.zeros((NUM_SGRNA, len(conditions)))\n",
      "is_missing = np.zeros(NUM_SGRNA)\n",
      "for idx, condition in enumerate(conditions):\n",
      "    wts = np.empty((NUM_SGRNA, 3))\n",
      "    for j in xrange(3):\n",
      "        wts[:,j] = df.loc[:, column_names['control'][j]] + df.loc[:, column_names[condition][j]]\n",
      "\n",
      "    wt_sums = np.sum(wts, axis=1)\n",
      "    is_missing = np.logical_or(wt_sums==0, is_missing)  # element-wise logical OR\n",
      "    for j in xrange(3):\n",
      "        scores[:,idx] += (wts[:,j]/wt_sums) * (proportions.loc[:, column_names[condition][j]] / proportions.loc[:, column_names['control'][j]])\n"
     ],
     "language": "python",
     "metadata": {},
     "outputs": [],
     "prompt_number": 35
    },
    {
     "cell_type": "code",
     "collapsed": false,
     "input": [
      "\n",
      "def makeOutputFile (outFile, filtered_scores):\n",
      "    outFile.write('GENE')\n",
      "    for condition in conditions:\n",
      "        outFile.write('\\t'+condition)\n",
      "    outFile.write(\"\\n\")\n",
      "\n",
      "    for j in xrange(filtered_scores.shape[0]):\n",
      "        outFile.write(df.iloc[j,0])\n",
      "        for score in filtered_scores[j, :]:\n",
      "            outFile.write('\\t')\n",
      "            outFile.write(str(score))\n",
      "        outFile.write('\\n')"
     ],
     "language": "python",
     "metadata": {},
     "outputs": [],
     "prompt_number": 50
    },
    {
     "cell_type": "code",
     "collapsed": false,
     "input": [
      "sgRNAs_with_assigned_gene = ~df['gene_name'].notnull().values\n",
      "print scores[~is_missing, :].shape\n",
      "print scores[(~is_missing) & sgRNAs_with_assigned_gene, :].shape\n",
      "print ~is_missing[:10]\n",
      "(~is_missing) & sgRNAs_with_assigned_gene"
     ],
     "language": "python",
     "metadata": {},
     "outputs": [
      {
       "output_type": "stream",
       "stream": "stdout",
       "text": [
        "(31770, 2)\n",
        "(15035, 2)\n",
        "[ True  True  True  True False  True  True  True  True  True]\n"
       ]
      },
      {
       "metadata": {},
       "output_type": "pyout",
       "prompt_number": 68,
       "text": [
        "array([ True,  True,  True, ..., False,  True, False], dtype=bool)"
       ]
      }
     ],
     "prompt_number": 68
    },
    {
     "cell_type": "code",
     "collapsed": false,
     "input": [
      "pyplot.hist(scores[~is_missing,1])"
     ],
     "language": "python",
     "metadata": {},
     "outputs": [
      {
       "metadata": {},
       "output_type": "pyout",
       "prompt_number": 42,
       "text": [
        "(array([  7.20000000e+01,   1.95300000e+03,   1.66060000e+04,\n",
        "          1.00160000e+04,   1.91800000e+03,   7.81000000e+02,\n",
        "          2.95000000e+02,   9.60000000e+01,   2.20000000e+01,\n",
        "          1.10000000e+01]),\n",
        " array([-3.43660607, -2.29599231, -1.15537854, -0.01476478,  1.12584898,\n",
        "         2.26646274,  3.40707651,  4.54769027,  5.68830403,  6.82891779,\n",
        "         7.96953156]),\n",
        " <a list of 10 Patch objects>)"
       ]
      },
      {
       "metadata": {},
       "output_type": "display_data",
       "png": "[encoded data removed]",
       "text": [
        "<matplotlib.figure.Figure at 0x10cad9990>"
       ]
      }
     ],
     "prompt_number": 42
    },
    {
     "cell_type": "code",
     "collapsed": false,
     "input": [
      "scores[~is_missing,:] = stats.zscore(np.log2(scores[~is_missing]))"
     ],
     "language": "python",
     "metadata": {},
     "outputs": [],
     "prompt_number": 39
    },
    {
     "cell_type": "code",
     "collapsed": false,
     "input": [
      "from scipy import stats\n",
      "stats.zscore(scores)"
     ],
     "language": "python",
     "metadata": {},
     "outputs": [
      {
       "metadata": {},
       "output_type": "pyout",
       "prompt_number": 30,
       "text": [
        "array([[ 0.15200309, -0.4150375 ],\n",
        "       [ 1.18459864, -0.77251196],\n",
        "       [ 0.15947821,  0.23397523],\n",
        "       ..., \n",
        "       [ 0.48542683, -1.80735492],\n",
        "       [-1.4150375 ,  0.46566357],\n",
        "       [ 0.32192809, -1.        ]])"
       ]
      }
     ],
     "prompt_number": 30
    },
    {
     "cell_type": "code",
     "collapsed": false,
     "input": [
      "from Pycluster import *\n",
      "tree = treecluster(data=scores, method='s')"
     ],
     "language": "python",
     "metadata": {},
     "outputs": [],
     "prompt_number": 46
    },
    {
     "cell_type": "code",
     "collapsed": false,
     "input": [
      "tree.scale()"
     ],
     "language": "python",
     "metadata": {},
     "outputs": [],
     "prompt_number": 47
    },
    {
     "cell_type": "code",
     "collapsed": false,
     "input": [
      "clusters = tree.cut(5)"
     ],
     "language": "python",
     "metadata": {},
     "outputs": [],
     "prompt_number": 48
    },
    {
     "cell_type": "code",
     "collapsed": false,
     "input": [
      "temp=Record()"
     ],
     "language": "python",
     "metadata": {},
     "outputs": [],
     "prompt_number": 54
    },
    {
     "cell_type": "code",
     "collapsed": false,
     "input": [
      "temp.data = scores[~is_missing,:]\n",
      "temp.geneid = df.index[~is_missing].tolist()\n",
      "temp.save('temp',clusters)"
     ],
     "language": "python",
     "metadata": {},
     "outputs": [
      {
       "ename": "TypeError",
       "evalue": "unsupported operand type(s) for +: 'NoneType' and 'str'",
       "output_type": "pyerr",
       "traceback": [
        "\u001b[0;31m---------------------------------------------------------------------------\u001b[0m\n\u001b[0;31mTypeError\u001b[0m                                 Traceback (most recent call last)",
        "\u001b[0;32m<ipython-input-75-442a7c4bb15a>\u001b[0m in \u001b[0;36m<module>\u001b[0;34m()\u001b[0m\n\u001b[1;32m      1\u001b[0m \u001b[0mtemp\u001b[0m\u001b[0;34m.\u001b[0m\u001b[0mdata\u001b[0m \u001b[0;34m=\u001b[0m \u001b[0mscores\u001b[0m\u001b[0;34m[\u001b[0m\u001b[0;34m~\u001b[0m\u001b[0mis_missing\u001b[0m\u001b[0;34m,\u001b[0m\u001b[0;34m:\u001b[0m\u001b[0;34m]\u001b[0m\u001b[0;34m\u001b[0m\u001b[0m\n\u001b[1;32m      2\u001b[0m \u001b[0mtemp\u001b[0m\u001b[0;34m.\u001b[0m\u001b[0mgeneid\u001b[0m \u001b[0;34m=\u001b[0m \u001b[0mdf\u001b[0m\u001b[0;34m.\u001b[0m\u001b[0mindex\u001b[0m\u001b[0;34m[\u001b[0m\u001b[0;34m~\u001b[0m\u001b[0mis_missing\u001b[0m\u001b[0;34m]\u001b[0m\u001b[0;34m.\u001b[0m\u001b[0mtolist\u001b[0m\u001b[0;34m(\u001b[0m\u001b[0;34m)\u001b[0m\u001b[0;34m\u001b[0m\u001b[0m\n\u001b[0;32m----> 3\u001b[0;31m \u001b[0mtemp\u001b[0m\u001b[0;34m.\u001b[0m\u001b[0msave\u001b[0m\u001b[0;34m(\u001b[0m\u001b[0;34m'temp'\u001b[0m\u001b[0;34m,\u001b[0m\u001b[0mclusters\u001b[0m\u001b[0;34m)\u001b[0m\u001b[0;34m\u001b[0m\u001b[0m\n\u001b[0m",
        "\u001b[0;32m/opt/local/Library/Frameworks/Python.framework/Versions/2.7/lib/python2.7/site-packages/Pycluster/__init__.pyc\u001b[0m in \u001b[0;36msave\u001b[0;34m(self, jobname, geneclusters, expclusters)\u001b[0m\n\u001b[1;32m    520\u001b[0m             \u001b[0mk\u001b[0m \u001b[0;34m=\u001b[0m \u001b[0mmax\u001b[0m\u001b[0;34m(\u001b[0m\u001b[0mgeneclusters\u001b[0m\u001b[0;34m+\u001b[0m\u001b[0;36m1\u001b[0m\u001b[0;34m)\u001b[0m\u001b[0;34m\u001b[0m\u001b[0m\n\u001b[1;32m    521\u001b[0m             \u001b[0mkggfilename\u001b[0m \u001b[0;34m=\u001b[0m \u001b[0;34m\"%s_K_G%d.kgg\"\u001b[0m \u001b[0;34m%\u001b[0m \u001b[0;34m(\u001b[0m\u001b[0mjobname\u001b[0m\u001b[0;34m,\u001b[0m \u001b[0mk\u001b[0m\u001b[0;34m)\u001b[0m\u001b[0;34m\u001b[0m\u001b[0m\n\u001b[0;32m--> 522\u001b[0;31m             \u001b[0mgeneindex\u001b[0m \u001b[0;34m=\u001b[0m \u001b[0mself\u001b[0m\u001b[0;34m.\u001b[0m\u001b[0m_savekmeans\u001b[0m\u001b[0;34m(\u001b[0m\u001b[0mkggfilename\u001b[0m\u001b[0;34m,\u001b[0m \u001b[0mgeneclusters\u001b[0m\u001b[0;34m,\u001b[0m \u001b[0mgorder\u001b[0m\u001b[0;34m,\u001b[0m \u001b[0;36m0\u001b[0m\u001b[0;34m)\u001b[0m\u001b[0;34m\u001b[0m\u001b[0m\n\u001b[0m\u001b[1;32m    523\u001b[0m             \u001b[0mpostfix\u001b[0m \u001b[0;34m=\u001b[0m \u001b[0;34m\"_G%d\"\u001b[0m \u001b[0;34m%\u001b[0m \u001b[0mk\u001b[0m\u001b[0;34m\u001b[0m\u001b[0m\n\u001b[1;32m    524\u001b[0m         \u001b[0;32melse\u001b[0m\u001b[0;34m:\u001b[0m\u001b[0;34m\u001b[0m\u001b[0m\n",
        "\u001b[0;32m/opt/local/Library/Frameworks/Python.framework/Versions/2.7/lib/python2.7/site-packages/Pycluster/__init__.pyc\u001b[0m in \u001b[0;36m_savekmeans\u001b[0;34m(self, filename, clusterids, order, transpose)\u001b[0m\n\u001b[1;32m    552\u001b[0m         \u001b[0;32mexcept\u001b[0m \u001b[0mIOError\u001b[0m\u001b[0;34m:\u001b[0m\u001b[0;34m\u001b[0m\u001b[0m\n\u001b[1;32m    553\u001b[0m             \u001b[0;32mraise\u001b[0m \u001b[0mIOError\u001b[0m\u001b[0;34m(\u001b[0m\u001b[0;34m\"Unable to open output file\"\u001b[0m\u001b[0;34m)\u001b[0m\u001b[0;34m\u001b[0m\u001b[0m\n\u001b[0;32m--> 554\u001b[0;31m         \u001b[0moutputfile\u001b[0m\u001b[0;34m.\u001b[0m\u001b[0mwrite\u001b[0m\u001b[0;34m(\u001b[0m\u001b[0mlabel\u001b[0m \u001b[0;34m+\u001b[0m \u001b[0;34m\"\\tGROUP\\n\"\u001b[0m\u001b[0;34m)\u001b[0m\u001b[0;34m\u001b[0m\u001b[0m\n\u001b[0m\u001b[1;32m    555\u001b[0m         \u001b[0mindex\u001b[0m \u001b[0;34m=\u001b[0m \u001b[0mnumpy\u001b[0m\u001b[0;34m.\u001b[0m\u001b[0margsort\u001b[0m\u001b[0;34m(\u001b[0m\u001b[0morder\u001b[0m\u001b[0;34m)\u001b[0m\u001b[0;34m\u001b[0m\u001b[0m\n\u001b[1;32m    556\u001b[0m         \u001b[0mn\u001b[0m \u001b[0;34m=\u001b[0m \u001b[0mlen\u001b[0m\u001b[0;34m(\u001b[0m\u001b[0mnames\u001b[0m\u001b[0;34m)\u001b[0m\u001b[0;34m\u001b[0m\u001b[0m\n",
        "\u001b[0;31mTypeError\u001b[0m: unsupported operand type(s) for +: 'NoneType' and 'str'"
       ]
      }
     ],
     "prompt_number": 75
    },
    {
     "cell_type": "code",
     "collapsed": false,
     "input": [
      "%debug"
     ],
     "language": "python",
     "metadata": {},
     "outputs": [
      {
       "output_type": "stream",
       "stream": "stdout",
       "text": [
        "> \u001b[0;32m/opt/local/Library/Frameworks/Python.framework/Versions/2.7/lib/python2.7/site-packages/Pycluster/__init__.py\u001b[0m(554)\u001b[0;36m_savekmeans\u001b[0;34m()\u001b[0m\n",
        "\u001b[0;32m    553 \u001b[0;31m            \u001b[0;32mraise\u001b[0m \u001b[0mIOError\u001b[0m\u001b[0;34m(\u001b[0m\u001b[0;34m\"Unable to open output file\"\u001b[0m\u001b[0;34m)\u001b[0m\u001b[0;34m\u001b[0m\u001b[0m\n",
        "\u001b[0m\u001b[0;32m--> 554 \u001b[0;31m        \u001b[0moutputfile\u001b[0m\u001b[0;34m.\u001b[0m\u001b[0mwrite\u001b[0m\u001b[0;34m(\u001b[0m\u001b[0mlabel\u001b[0m \u001b[0;34m+\u001b[0m \u001b[0;34m\"\\tGROUP\\n\"\u001b[0m\u001b[0;34m)\u001b[0m\u001b[0;34m\u001b[0m\u001b[0m\n",
        "\u001b[0m\u001b[0;32m    555 \u001b[0;31m        \u001b[0mindex\u001b[0m \u001b[0;34m=\u001b[0m \u001b[0mnumpy\u001b[0m\u001b[0;34m.\u001b[0m\u001b[0margsort\u001b[0m\u001b[0;34m(\u001b[0m\u001b[0morder\u001b[0m\u001b[0;34m)\u001b[0m\u001b[0;34m\u001b[0m\u001b[0m\n",
        "\u001b[0m\n"
       ]
      },
      {
       "name": "stdout",
       "output_type": "stream",
       "stream": "stdout",
       "text": [
        "ipdb> label\n"
       ]
      },
      {
       "name": "stdout",
       "output_type": "stream",
       "stream": "stdout",
       "text": [
        "ipdb> print outputfile\n"
       ]
      },
      {
       "output_type": "stream",
       "stream": "stdout",
       "text": [
        "<open file 'temp_K_G5.kgg', mode 'w' at 0x10a6056f0>\n"
       ]
      },
      {
       "name": "stdout",
       "output_type": "stream",
       "stream": "stdout",
       "text": [
        "ipdb> print label\n"
       ]
      },
      {
       "output_type": "stream",
       "stream": "stdout",
       "text": [
        "None\n"
       ]
      },
      {
       "output_type": "stream",
       "stream": "stdout",
       "text": [
        "\n",
        "KeyboardInterrupt\n",
        "> \u001b[0;32m/opt/local/Library/Frameworks/Python.framework/Versions/2.7/lib/python2.7/site-packages/Pycluster/__init__.py\u001b[0m(554)\u001b[0;36m_savekmeans\u001b[0;34m()\u001b[0m\n",
        "\u001b[0;32m    553 \u001b[0;31m            \u001b[0;32mraise\u001b[0m \u001b[0mIOError\u001b[0m\u001b[0;34m(\u001b[0m\u001b[0;34m\"Unable to open output file\"\u001b[0m\u001b[0;34m)\u001b[0m\u001b[0;34m\u001b[0m\u001b[0m\n",
        "\u001b[0m\u001b[0;32m--> 554 \u001b[0;31m        \u001b[0moutputfile\u001b[0m\u001b[0;34m.\u001b[0m\u001b[0mwrite\u001b[0m\u001b[0;34m(\u001b[0m\u001b[0mlabel\u001b[0m \u001b[0;34m+\u001b[0m \u001b[0;34m\"\\tGROUP\\n\"\u001b[0m\u001b[0;34m)\u001b[0m\u001b[0;34m\u001b[0m\u001b[0m\n",
        "\u001b[0m\u001b[0;32m    555 \u001b[0;31m        \u001b[0mindex\u001b[0m \u001b[0;34m=\u001b[0m \u001b[0mnumpy\u001b[0m\u001b[0;34m.\u001b[0m\u001b[0margsort\u001b[0m\u001b[0;34m(\u001b[0m\u001b[0morder\u001b[0m\u001b[0;34m)\u001b[0m\u001b[0;34m\u001b[0m\u001b[0m\n",
        "\u001b[0m\n"
       ]
      },
      {
       "output_type": "stream",
       "stream": "stdout",
       "text": [
        "\n",
        "KeyboardInterrupt\n",
        "> \u001b[0;32m/opt/local/Library/Frameworks/Python.framework/Versions/2.7/lib/python2.7/site-packages/Pycluster/__init__.py\u001b[0m(554)\u001b[0;36m_savekmeans\u001b[0;34m()\u001b[0m\n",
        "\u001b[0;32m    553 \u001b[0;31m            \u001b[0;32mraise\u001b[0m \u001b[0mIOError\u001b[0m\u001b[0;34m(\u001b[0m\u001b[0;34m\"Unable to open output file\"\u001b[0m\u001b[0;34m)\u001b[0m\u001b[0;34m\u001b[0m\u001b[0m\n",
        "\u001b[0m\u001b[0;32m--> 554 \u001b[0;31m        \u001b[0moutputfile\u001b[0m\u001b[0;34m.\u001b[0m\u001b[0mwrite\u001b[0m\u001b[0;34m(\u001b[0m\u001b[0mlabel\u001b[0m \u001b[0;34m+\u001b[0m \u001b[0;34m\"\\tGROUP\\n\"\u001b[0m\u001b[0;34m)\u001b[0m\u001b[0;34m\u001b[0m\u001b[0m\n",
        "\u001b[0m\u001b[0;32m    555 \u001b[0;31m        \u001b[0mindex\u001b[0m \u001b[0;34m=\u001b[0m \u001b[0mnumpy\u001b[0m\u001b[0;34m.\u001b[0m\u001b[0margsort\u001b[0m\u001b[0;34m(\u001b[0m\u001b[0morder\u001b[0m\u001b[0;34m)\u001b[0m\u001b[0;34m\u001b[0m\u001b[0m\n",
        "\u001b[0m\n"
       ]
      },
      {
       "name": "stdout",
       "output_type": "stream",
       "stream": "stdout",
       "text": [
        "ipdb> quit()\n"
       ]
      }
     ],
     "prompt_number": 76
    },
    {
     "cell_type": "code",
     "collapsed": false,
     "input": [],
     "language": "python",
     "metadata": {},
     "outputs": []
    }
   ],
   "metadata": {}
  }
 ]
}